{
 "cells": [
  {
   "cell_type": "markdown",
   "metadata": {},
   "source": [
    "# MOF Screening using Active Learning #"
   ]
  },
  {
   "cell_type": "code",
   "execution_count": 4,
   "metadata": {},
   "outputs": [],
   "source": [
    "import pandas as pd\n",
    "import sys"
   ]
  },
  {
   "cell_type": "code",
   "execution_count": 5,
   "metadata": {},
   "outputs": [
    {
     "ename": "NameError",
     "evalue": "name 'os' is not defined",
     "output_type": "error",
     "traceback": [
      "\u001b[0;31m---------------------------------------------------------------------------\u001b[0m",
      "\u001b[0;31mNameError\u001b[0m                                 Traceback (most recent call last)",
      "Cell \u001b[0;32mIn[5], line 2\u001b[0m\n\u001b[1;32m      1\u001b[0m \u001b[38;5;66;03m# Get the current working directory and read the csv file into the notebook\u001b[39;00m\n\u001b[0;32m----> 2\u001b[0m PATH \u001b[38;5;241m=\u001b[39m \u001b[43mos\u001b[49m\u001b[38;5;241m.\u001b[39mgetcwd()\n\u001b[1;32m      3\u001b[0m CSV_FILE \u001b[38;5;241m=\u001b[39m os\u001b[38;5;241m.\u001b[39mpath\u001b[38;5;241m.\u001b[39mjoin(PATH, \u001b[38;5;124m\"\u001b[39m\u001b[38;5;124m../Combined_set_prescreened (1).csv\u001b[39m\u001b[38;5;124m\"\u001b[39m);\n\u001b[1;32m      4\u001b[0m df \u001b[38;5;241m=\u001b[39m pd\u001b[38;5;241m.\u001b[39mread_csv(CSV_FILE);\n",
      "\u001b[0;31mNameError\u001b[0m: name 'os' is not defined"
     ]
    }
   ],
   "source": [
    "# Get the current working directory and read the csv file into the notebook\n",
    "PATH = os.getcwd()\n",
    "CSV_FILE = os.path.join(PATH, \"../Combined_set_prescreened (1).csv\");\n",
    "df = pd.read_csv(CSV_FILE);\n",
    "df.head()"
   ]
  },
  {
   "cell_type": "markdown",
   "metadata": {},
   "source": [
    "### COP CALCULATION ###"
   ]
  },
  {
   "cell_type": "code",
   "execution_count": null,
   "metadata": {},
   "outputs": [],
   "source": [
    "df[\"deltaQ\"] = df[\"uptake_ads\"] - df[\"uptake_des\"]\n",
    "df[\"deltaHmean\"] = (df[\"heat_ads\"] + df[\"heat_des\"])/2\n",
    "df = df[df[\"deltaQ\"]>=0]\n",
    "deltaHvap = 16.25 \n",
    "Tads = 313.15 \n",
    "Tdes = 358.15\n",
    "Mw = 44.097/1000\n",
    "Cp = 1\n",
    "df[\"COP\"] = (deltaHvap * df[\"deltaQ\"]) / (Mw*Cp*(Tdes - Tads) - df[\"deltaHmean\"]*df[\"deltaQ\"]);\n",
    "df.drop(columns=[\"MOF\", \"uptake_ads\", \"uptake_des\", \"heat_ads\", \"heat_des\", \"deltaQ\", \"deltaHmean\"], inplace=True) "
   ]
  },
  {
   "cell_type": "markdown",
   "metadata": {},
   "source": [
    "### ACTIVE LEARNING CODE ###"
   ]
  },
  {
   "cell_type": "code",
   "execution_count": null,
   "metadata": {},
   "outputs": [],
   "source": [
    "df.head()"
   ]
  },
  {
   "cell_type": "code",
   "execution_count": null,
   "metadata": {},
   "outputs": [],
   "source": []
  }
 ],
 "metadata": {
  "kernelspec": {
   "display_name": "Python 3 (ipykernel)",
   "language": "python",
   "name": "python3"
  },
  "language_info": {
   "codemirror_mode": {
    "name": "ipython",
    "version": 3
   },
   "file_extension": ".py",
   "mimetype": "text/x-python",
   "name": "python",
   "nbconvert_exporter": "python",
   "pygments_lexer": "ipython3",
   "version": "3.12.3"
  }
 },
 "nbformat": 4,
 "nbformat_minor": 4
}
